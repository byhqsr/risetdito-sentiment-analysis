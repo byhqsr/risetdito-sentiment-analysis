{
  "nbformat": 4,
  "nbformat_minor": 0,
  "metadata": {
    "colab": {
      "name": "003 Sentiment Analysis-Grab",
      "provenance": [],
      "collapsed_sections": [],
      "authorship_tag": "ABX9TyPKWy0toP69xXnhc3Zs6H5q",
      "include_colab_link": true
    },
    "kernelspec": {
      "name": "python3",
      "display_name": "Python 3"
    }
  },
  "cells": [
    {
      "cell_type": "markdown",
      "metadata": {
        "id": "view-in-github",
        "colab_type": "text"
      },
      "source": [
        "<a href=\"https://colab.research.google.com/github/risetdito/sentiment-analysis/blob/master/003_Sentiment_Analysis_Grab.ipynb\" target=\"_parent\"><img src=\"https://colab.research.google.com/assets/colab-badge.svg\" alt=\"Open In Colab\"/></a>"
      ]
    },
    {
      "cell_type": "markdown",
      "metadata": {
        "id": "tyzyYArh3O2r",
        "colab_type": "text"
      },
      "source": [
        "*Muhammad Apriandito Arya Saputra*\n",
        "\n",
        "\n",
        "---\n",
        "\n",
        "\n"
      ]
    },
    {
      "cell_type": "markdown",
      "metadata": {
        "id": "lxsaHakps04M",
        "colab_type": "text"
      },
      "source": [
        "# **Sentiment Analysis - Grab**"
      ]
    },
    {
      "cell_type": "markdown",
      "metadata": {
        "id": "MBP9pejSs9jI",
        "colab_type": "text"
      },
      "source": [
        "## **Import Library**"
      ]
    },
    {
      "cell_type": "code",
      "metadata": {
        "id": "vRnuq76GnGcc",
        "colab_type": "code",
        "colab": {}
      },
      "source": [
        "# Import Library\n",
        "import pandas as pd "
      ],
      "execution_count": null,
      "outputs": []
    },
    {
      "cell_type": "code",
      "metadata": {
        "id": "wY6WUf2jnMCD",
        "colab_type": "code",
        "colab": {}
      },
      "source": [
        "# Import Modules\n",
        "from sklearn.feature_extraction.text import CountVectorizer # to create Bag of words\n",
        "from sklearn.model_selection import train_test_split  # for splitting data\n",
        "from sklearn.naive_bayes import GaussianNB # to bulid classifier model\n",
        "from sklearn.preprocessing import LabelEncoder # to convert classes to number \n",
        "import sklearn.metrics as metrics # to calculate accuracy"
      ],
      "execution_count": null,
      "outputs": []
    },
    {
      "cell_type": "markdown",
      "metadata": {
        "id": "72nzP7NTtC-V",
        "colab_type": "text"
      },
      "source": [
        "## **Import Data**"
      ]
    },
    {
      "cell_type": "code",
      "metadata": {
        "id": "mk0OIRbSnNJ-",
        "colab_type": "code",
        "colab": {}
      },
      "source": [
        "# Import Train Data\n",
        "df_grab = pd.read_csv('https://raw.githubusercontent.com/risetdito/dataset-sa/master/grab/tweet_grab.csv', sep = ';')\n",
        "df_grab.head()"
      ],
      "execution_count": null,
      "outputs": []
    },
    {
      "cell_type": "code",
      "metadata": {
        "id": "W_5Asl88nO4o",
        "colab_type": "code",
        "colab": {}
      },
      "source": [
        "# Count the Sentiment\n",
        "df_grab.sentiment.value_counts()"
      ],
      "execution_count": null,
      "outputs": []
    },
    {
      "cell_type": "markdown",
      "metadata": {
        "id": "WJzPj4tTtKf0",
        "colab_type": "text"
      },
      "source": [
        "## **Vectorization**"
      ]
    },
    {
      "cell_type": "code",
      "metadata": {
        "id": "cL-7jUkmnQNo",
        "colab_type": "code",
        "colab": {}
      },
      "source": [
        "# Vectorization / Feature Extraction \n",
        "count_vector = CountVectorizer()  \n",
        "grab_feature = count_vector.fit_transform(df_grab['text']).toarray()\n",
        "grab_feature"
      ],
      "execution_count": null,
      "outputs": []
    },
    {
      "cell_type": "code",
      "metadata": {
        "id": "8_G4FwiDnRWf",
        "colab_type": "code",
        "colab": {}
      },
      "source": [
        "# Crate as Dataframe\n",
        "grab_feature_matrix = pd.DataFrame(grab_feature,columns=count_vector.get_feature_names())\n",
        "grab_feature_matrix.head()"
      ],
      "execution_count": null,
      "outputs": []
    },
    {
      "cell_type": "code",
      "metadata": {
        "id": "29Bw8KSLnSw4",
        "colab_type": "code",
        "colab": {}
      },
      "source": [
        "# Encode Target\n",
        "encoder = LabelEncoder()\n",
        "grab_label = encoder.fit_transform(df_grab['sentiment'])\n",
        "grab_label"
      ],
      "execution_count": null,
      "outputs": []
    },
    {
      "cell_type": "markdown",
      "metadata": {
        "id": "ckOiVd9LtRcr",
        "colab_type": "text"
      },
      "source": [
        "## **Split Data**"
      ]
    },
    {
      "cell_type": "code",
      "metadata": {
        "id": "JfyJbsClnUSh",
        "colab_type": "code",
        "colab": {}
      },
      "source": [
        "# Set Training and Testing Data (70:30)\n",
        "feature_train, feature_test, target_train, target_test = train_test_split(grab_feature, grab_label, shuffle = True, test_size=0.3, random_state=1)\n",
        "\n",
        "# Show the Training and Testing Data\n",
        "print(feature_train.shape)\n",
        "print(feature_test.shape)\n",
        "print(target_train.shape)\n",
        "print(target_test.shape)"
      ],
      "execution_count": null,
      "outputs": []
    },
    {
      "cell_type": "markdown",
      "metadata": {
        "id": "eVFla9bNtUn1",
        "colab_type": "text"
      },
      "source": [
        "## **Modelling**"
      ]
    },
    {
      "cell_type": "code",
      "metadata": {
        "id": "pS6lwC-anV-X",
        "colab_type": "code",
        "colab": {}
      },
      "source": [
        "# Train Naive Bayes Model\n",
        "nb = GaussianNB().fit(feature_train, target_train)\n",
        "\n",
        "# Predict to Test Data\n",
        "target_predicted = nb.predict(feature_test) \n",
        "target_predicted "
      ],
      "execution_count": null,
      "outputs": []
    },
    {
      "cell_type": "markdown",
      "metadata": {
        "id": "pLrU_DrStrFQ",
        "colab_type": "text"
      },
      "source": [
        "## **Validation**"
      ]
    },
    {
      "cell_type": "code",
      "metadata": {
        "id": "OgVA045pniE2",
        "colab_type": "code",
        "colab": {}
      },
      "source": [
        "# Confsion Matrix\n",
        "cm = metrics.confusion_matrix(target_test, target_predicted)\n",
        "cm"
      ],
      "execution_count": null,
      "outputs": []
    },
    {
      "cell_type": "code",
      "metadata": {
        "id": "KiExUl4FnYli",
        "colab_type": "code",
        "colab": {}
      },
      "source": [
        "# Check Model Accuracy\n",
        "print('Test model accuracy: ', metrics.accuracy_score(target_test, target_predicted))\n",
        "print('Test model precision: ', metrics.precision_score(target_test, target_predicted))\n",
        "print('Test model recall: ', metrics.recall_score(target_test, target_predicted))\n",
        "print('Test model F1 Score: ', metrics.f1_score(target_test, target_predicted))"
      ],
      "execution_count": null,
      "outputs": []
    },
    {
      "cell_type": "markdown",
      "metadata": {
        "id": "efXLTpyenqSH",
        "colab_type": "text"
      },
      "source": [
        "## **Use the  Model to Predict New Data**"
      ]
    },
    {
      "cell_type": "code",
      "metadata": {
        "id": "4S0jztVWnusY",
        "colab_type": "code",
        "colab": {}
      },
      "source": [
        "# Import New Dataset\n",
        "df_predict = pd.read_csv(\"https://raw.githubusercontent.com/risetdito/dataset-sa/master/grab/pred_grab.csv\")\n",
        "df_predict"
      ],
      "execution_count": null,
      "outputs": []
    },
    {
      "cell_type": "code",
      "metadata": {
        "id": "CGvW9k6Fo17y",
        "colab_type": "code",
        "colab": {}
      },
      "source": [
        "# Vectorization\n",
        "pred_feature = count_vector.transform(df_predict['text']).toarray()\n",
        "pred_feature"
      ],
      "execution_count": null,
      "outputs": []
    },
    {
      "cell_type": "code",
      "metadata": {
        "id": "rzkilznepK93",
        "colab_type": "code",
        "colab": {}
      },
      "source": [
        "prediction_result = nb.predict(pred_feature) \n",
        "prediction_result"
      ],
      "execution_count": null,
      "outputs": []
    },
    {
      "cell_type": "code",
      "metadata": {
        "id": "an6YHhV3pTJU",
        "colab_type": "code",
        "colab": {}
      },
      "source": [
        "df_predicted = pd.DataFrame(prediction_result, columns=[\"Predicted Sentiment\"])"
      ],
      "execution_count": null,
      "outputs": []
    },
    {
      "cell_type": "code",
      "metadata": {
        "id": "BzrqbP6opdf2",
        "colab_type": "code",
        "colab": {}
      },
      "source": [
        "df_result = pd.concat([df_predict, df_predicted], axis=1)\n",
        "df_result"
      ],
      "execution_count": null,
      "outputs": []
    }
  ]
}